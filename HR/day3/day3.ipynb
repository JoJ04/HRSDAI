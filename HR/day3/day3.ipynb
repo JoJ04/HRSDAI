{
 "cells": [
  {
   "cell_type": "code",
   "execution_count": 1,
   "metadata": {},
   "outputs": [
    {
     "name": "stdout",
     "output_type": "stream",
     "text": [
      "Requirement already satisfied: opencv-python in c:\\users\\gogo-\\appdata\\local\\programs\\python\\python312\\lib\\site-packages (4.9.0.80)\n",
      "Requirement already satisfied: numpy>=1.21.2 in c:\\users\\gogo-\\appdata\\local\\programs\\python\\python312\\lib\\site-packages (from opencv-python) (1.26.3)\n",
      "Note: you may need to restart the kernel to use updated packages.\n"
     ]
    }
   ],
   "source": [
    "pip install opencv-python"
   ]
  },
  {
   "cell_type": "code",
   "execution_count": 2,
   "metadata": {},
   "outputs": [
    {
     "name": "stdout",
     "output_type": "stream",
     "text": [
      "Requirement already satisfied: matplotlib in c:\\users\\gogo-\\appdata\\local\\programs\\python\\python312\\lib\\site-packages (3.8.2)\n",
      "Requirement already satisfied: contourpy>=1.0.1 in c:\\users\\gogo-\\appdata\\local\\programs\\python\\python312\\lib\\site-packages (from matplotlib) (1.2.0)\n",
      "Requirement already satisfied: cycler>=0.10 in c:\\users\\gogo-\\appdata\\local\\programs\\python\\python312\\lib\\site-packages (from matplotlib) (0.12.1)\n",
      "Requirement already satisfied: fonttools>=4.22.0 in c:\\users\\gogo-\\appdata\\local\\programs\\python\\python312\\lib\\site-packages (from matplotlib) (4.47.0)\n",
      "Requirement already satisfied: kiwisolver>=1.3.1 in c:\\users\\gogo-\\appdata\\local\\programs\\python\\python312\\lib\\site-packages (from matplotlib) (1.4.5)\n",
      "Requirement already satisfied: numpy<2,>=1.21 in c:\\users\\gogo-\\appdata\\local\\programs\\python\\python312\\lib\\site-packages (from matplotlib) (1.26.3)\n",
      "Requirement already satisfied: packaging>=20.0 in c:\\users\\gogo-\\appdata\\local\\programs\\python\\python312\\lib\\site-packages (from matplotlib) (23.2)\n",
      "Requirement already satisfied: pillow>=8 in c:\\users\\gogo-\\appdata\\local\\programs\\python\\python312\\lib\\site-packages (from matplotlib) (10.2.0)\n",
      "Requirement already satisfied: pyparsing>=2.3.1 in c:\\users\\gogo-\\appdata\\local\\programs\\python\\python312\\lib\\site-packages (from matplotlib) (3.1.1)\n",
      "Requirement already satisfied: python-dateutil>=2.7 in c:\\users\\gogo-\\appdata\\local\\programs\\python\\python312\\lib\\site-packages (from matplotlib) (2.8.2)\n",
      "Requirement already satisfied: six>=1.5 in c:\\users\\gogo-\\appdata\\local\\programs\\python\\python312\\lib\\site-packages (from python-dateutil>=2.7->matplotlib) (1.16.0)\n",
      "Note: you may need to restart the kernel to use updated packages.\n"
     ]
    }
   ],
   "source": [
    "pip install matplotlib"
   ]
  },
  {
   "cell_type": "code",
   "execution_count": 3,
   "metadata": {},
   "outputs": [
    {
     "name": "stdout",
     "output_type": "stream",
     "text": [
      "Requirement already satisfied: numpy in c:\\users\\gogo-\\appdata\\local\\programs\\python\\python312\\lib\\site-packages (1.26.3)\n",
      "Note: you may need to restart the kernel to use updated packages.\n"
     ]
    }
   ],
   "source": [
    "pip install numpy"
   ]
  },
  {
   "cell_type": "code",
   "execution_count": 4,
   "metadata": {},
   "outputs": [
    {
     "name": "stdout",
     "output_type": "stream",
     "text": [
      "Requirement already satisfied: pyTelegramBotAPI in c:\\users\\gogo-\\appdata\\local\\programs\\python\\python312\\lib\\site-packages (4.14.1)\n",
      "Requirement already satisfied: requests in c:\\users\\gogo-\\appdata\\local\\programs\\python\\python312\\lib\\site-packages (from pyTelegramBotAPI) (2.31.0)\n",
      "Requirement already satisfied: charset-normalizer<4,>=2 in c:\\users\\gogo-\\appdata\\local\\programs\\python\\python312\\lib\\site-packages (from requests->pyTelegramBotAPI) (3.3.2)\n",
      "Requirement already satisfied: idna<4,>=2.5 in c:\\users\\gogo-\\appdata\\local\\programs\\python\\python312\\lib\\site-packages (from requests->pyTelegramBotAPI) (3.6)\n",
      "Requirement already satisfied: urllib3<3,>=1.21.1 in c:\\users\\gogo-\\appdata\\local\\programs\\python\\python312\\lib\\site-packages (from requests->pyTelegramBotAPI) (2.1.0)\n",
      "Requirement already satisfied: certifi>=2017.4.17 in c:\\users\\gogo-\\appdata\\local\\programs\\python\\python312\\lib\\site-packages (from requests->pyTelegramBotAPI) (2023.11.17)\n",
      "Note: you may need to restart the kernel to use updated packages.\n"
     ]
    }
   ],
   "source": [
    "pip install pyTelegramBotAPI"
   ]
  },
  {
   "cell_type": "code",
   "execution_count": null,
   "metadata": {},
   "outputs": [],
   "source": [
    "import cv2\n",
    "import numpy as np\n",
    "import telebot\n",
    "from telebot import types\n",
    "\n",
    "# قم بتبديل 'YOUR_TELEGRAM_BOT_TOKEN' برمز البوت الخاص بك على تيليجرام الفعلي\n",
    "\n",
    "bot = telebot.TeleBot(\"6295026522:AAHb65FBCII8f9hbAs_Sd4pCbFZHlAJO1oQ\")\n",
    "\n",
    "@bot.message_handler(content_types=['photo'])\n",
    "def handle_photo(message):\n",
    "    # قم بتنزيل الصورة\n",
    "    file_info = bot.get_file(message.photo[-1].file_id)\n",
    "    downloaded_file = bot.download_file(file_info.file_path)\n",
    "\n",
    "    # احفظ الصورة على القرص المحلي\n",
    "    with open(\"photo.jpg\", 'wb') as new_file:\n",
    "        new_file.write(downloaded_file)\n",
    "\n",
    "    # قم بتحميل الصورة باستخدام OpenCV\n",
    "    image = cv2.imread(\"photo.jpg\")\n",
    "\n",
    "    # قم بتحويل الصورة إلى اللون الرمادي\n",
    "    gray = cv2.cvtColor(image, cv2.COLOR_BGR2GRAY)\n",
    "\n",
    "    # قم بتحميل مصنف كاسكيد الذي يُستخدم لاكتشاف الوجوه مسبقًا\n",
    "    face_cascade = cv2.CascadeClassifier(cv2.data.haarcascades + 'haarcascade_frontalface_default.xml')\n",
    "\n",
    "    # اكتشف الوجوه في الصورة\n",
    "    faces = face_cascade.detectMultiScale(gray, scaleFactor=1.3, minNeighbors=5, minSize=(30, 30))\n",
    "\n",
    "    # تحقق مما إذا كان يوجد شخص يحمل جوال في كل وجه تم اكتشافه\n",
    "    for (x, y, w, h) in faces:\n",
    "        face_roi = gray[y:y + h, x:x + w]\n",
    "        #تشوف اذا هو ماسك الجوال او لا canny\n",
    "        edges = cv2.Canny(face_roi, 50, 150)\n",
    "        lines = cv2.HoughLinesP(edges, 1, np.pi / 180, threshold=50, minLineLength=30, maxLineGap=10)\n",
    "\n",
    "        if lines is not None:\n",
    "            # قم برسم مستطيل أخضر حول الجوال المكتشف\n",
    "            cv2.rectangle(image, (x, y), (x + w, y + h), (0, 255, 0), 2)\n",
    "\n",
    "            # احفظ الصورة مع المستطيل الأخضر\n",
    "            cv2.imwrite(\"result.jpg\", image)\n",
    "\n",
    "            # أرسل الصورة المعدلة إلى المستخدم\n",
    "            with open(\"result.jpg\", 'rb') as result_file:\n",
    "                bot.send_photo(message.chat.id, result_file, \"تم إلتقاط صورة لشخص يحمل الجوال\")\n",
    "\n",
    "            return\n",
    "\n",
    "    # إذا لم يتم العثور على شخص يحمل جوال\n",
    "    bot.reply_to(message, \"لم يتم العثور على شخص يحمل جوال في الصورة.\")\n",
    "\n",
    "if __name__ == \"__main__\":\n",
    "    bot.polling(none_stop=True)\n"
   ]
  },
  {
   "cell_type": "code",
   "execution_count": null,
   "metadata": {},
   "outputs": [],
   "source": [
    "import telebot\n",
    "\n",
    "# قم بتبديل 'YOUR_BOT_TOKEN' برمز البوت الخاص بك على تيليجرام الفعلي\n",
    "bot = telebot.TeleBot('6295026522:AAHb65FBCII8f9hbAs_Sd4pCbFZHlAJO1oQ')\n",
    "\n",
    "@bot.message_handler(func=lambda message: message.text.lower() == 'أرسل لي وردة')\n",
    "def send_flower(message):\n",
    "    try:\n",
    "        # قم بتبديل 'path/to/flower_image.jpg' بالمسار الفعلي لصورة الزهرة الخاصة بك\n",
    "        with open('img.jpg', 'rb') as photo:\n",
    "            bot.send_photo(message.chat.id, photo, caption='إليك وردة جميلة!')\n",
    "\n",
    "    except Exception as e:\n",
    "        print(e)\n",
    "\n",
    "# قم بتشغيل البوت\n",
    "bot.polling(none_stop=True, interval=0)"
   ]
  }
 ],
 "metadata": {
  "kernelspec": {
   "display_name": "Python 3",
   "language": "python",
   "name": "python3"
  },
  "language_info": {
   "codemirror_mode": {
    "name": "ipython",
    "version": 3
   },
   "file_extension": ".py",
   "mimetype": "text/x-python",
   "name": "python",
   "nbconvert_exporter": "python",
   "pygments_lexer": "ipython3",
   "version": "3.12.1"
  }
 },
 "nbformat": 4,
 "nbformat_minor": 2
}
