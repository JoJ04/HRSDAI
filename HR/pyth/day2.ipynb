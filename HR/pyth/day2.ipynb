{
 "cells": [
  {
   "cell_type": "code",
   "execution_count": 3,
   "metadata": {},
   "outputs": [
    {
     "name": "stdout",
     "output_type": "stream",
     "text": [
      "Requirement already satisfied: pyTelegramBotAPI in c:\\users\\gogo-\\appdata\\local\\programs\\python\\python312\\lib\\site-packages (4.14.1)\n",
      "Requirement already satisfied: requests in c:\\users\\gogo-\\appdata\\local\\programs\\python\\python312\\lib\\site-packages (from pyTelegramBotAPI) (2.31.0)\n",
      "Requirement already satisfied: charset-normalizer<4,>=2 in c:\\users\\gogo-\\appdata\\local\\programs\\python\\python312\\lib\\site-packages (from requests->pyTelegramBotAPI) (3.3.2)\n",
      "Requirement already satisfied: idna<4,>=2.5 in c:\\users\\gogo-\\appdata\\local\\programs\\python\\python312\\lib\\site-packages (from requests->pyTelegramBotAPI) (3.6)\n",
      "Requirement already satisfied: urllib3<3,>=1.21.1 in c:\\users\\gogo-\\appdata\\local\\programs\\python\\python312\\lib\\site-packages (from requests->pyTelegramBotAPI) (2.1.0)\n",
      "Requirement already satisfied: certifi>=2017.4.17 in c:\\users\\gogo-\\appdata\\local\\programs\\python\\python312\\lib\\site-packages (from requests->pyTelegramBotAPI) (2023.11.17)\n",
      "Note: you may need to restart the kernel to use updated packages.\n"
     ]
    }
   ],
   "source": [
    "pip install pyTelegramBotAPI"
   ]
  },
  {
   "cell_type": "code",
   "execution_count": 4,
   "metadata": {},
   "outputs": [],
   "source": [
    "import telebot\n",
    "\n",
    "bot = telebot.TeleBot(\"6295026522:AAHb65FBCII8f9hbAs_Sd4pCbFZHlAJO1oQ\")\n",
    "\n",
    "@bot.message_handler(commands=['ابدأ'])\n",
    "def handle_start(message):\n",
    "    bot.reply_to(message,\"مرحبا بكم في البوت التجريبي\")\n",
    "\n",
    "@bot.message_handler(func= lambda message:True)\n",
    "def handler_text(message):\n",
    "    bot.reply_to(message,message.text)\n",
    "bot.polling()\n",
    "\n",
    "\n"
   ]
  },
  {
   "cell_type": "code",
   "execution_count": 6,
   "metadata": {},
   "outputs": [],
   "source": [
    "import telebot\n",
    "\n",
    "bot = telebot.TeleBot(\"6295026522:AAHb65FBCII8f9hbAs_Sd4pCbFZHlAJO1oQ\")\n",
    "\n",
    "@bot.message_handler(commands=['start','help'])\n",
    " #اقدر اكتب x massageبدال\n",
    "def handle_start_help(message):\n",
    "   help_message = \"  مرحبا! انا بوت لتوفير مصادر المعسكر, يمكنك ستخدام هذه الاوامر \\n /python لتحميل البايثون \\n /VSCode لتحميل محرر الاكواد \"\n",
    "   bot.send_message(message.chat.id, help_message)\n",
    "\n",
    "@bot.message_handler(commands=['python'])\n",
    "def handle_python_command(message):\n",
    "   linkpython = \"https://www.python.org/downloads/\"\n",
    "   bot.send_message(message.chat.id, f\"من الرابط الاتي يمكنك تحميل البايثون \\n {linkpython}\")\n",
    "\n",
    "\n",
    "@bot.message_handler(commands=['VSCode'])\n",
    "def handle_python_command(message):\n",
    "   linkVSCode = \"https://code.visualstudio.com/download\"\n",
    "   bot.send_message(message.chat.id, f\"من الرابط الاتي يمكنك تحميل محرر الاكواد   \\n {linkVSCode}\")\n",
    "   \n",
    "@bot.message_handler(func = lambda message : True)\n",
    "def handler_other_message(message):\n",
    "   bot.send_message(message.chat.id,\"لرؤية الاوامر اكتب او اضغط على /help \")\n",
    "\n",
    "bot.polling()"
   ]
  },
  {
   "cell_type": "code",
   "execution_count": 18,
   "metadata": {},
   "outputs": [],
   "source": [
    "import telebot\n",
    "import cv2\n",
    "import numpy as np\n",
    "from io import BytesIO\n",
    "bot = telebot.TeleBot(\"6295026522:AAHb65FBCII8f9hbAs_Sd4pCbFZHlAJO1oQ\")\n",
    "\n",
    "@bot.message_handler(content_types=['photo'])\n",
    "#اقدر اكتب x massageبدال\n",
    "def handle_photo(message):\n",
    "  file_id = message.photo[-1].file_id\n",
    "  file_info =bot.get_file(file_id)\n",
    "  file = bot.download_file(file_info.file_path)\n",
    "\n",
    "  np_array = np.frombuffer(file,dtype = np.uint8)\n",
    "  img = cv2.imdecode(np_array,cv2.IMREAD_COLOR)\n",
    "  gray = cv2.cvtColor(img,cv2.COLOR_BGR2GRAY)\n",
    "\n",
    "  face_casecade = cv2.CascadeClassifier(cv2.data.haarcascades + 'haarcascade_frontalface_default.xml')\n",
    "  faces = face_casecade.detectMultiScale(gray, scaleFactor=1.1,minNeighbors=5,minSize=(30,30))\n",
    "\n",
    "\n",
    "  for(x,y,w,h) in faces:\n",
    "    cv2.rectangle(img,(x,y),(x+w,y+h),(0,255,0),2)\n",
    "\n",
    "  processed_image_path = \"processed_image.jpg\"  \n",
    "  cv2.imwrite(processed_image_path,img)\n",
    "\n",
    "  processed_img = open(processed_image_path,\"rb\")\n",
    "  bot.send_photo(message.chat.id,processed_img)\n",
    "\n",
    "  bot.send_message(message.chat.id,\"تم معالجة الصورة بنجاح\")\n",
    "\n",
    "bot.polling()"
   ]
  }
 ],
 "metadata": {
  "kernelspec": {
   "display_name": "Python 3",
   "language": "python",
   "name": "python3"
  },
  "language_info": {
   "codemirror_mode": {
    "name": "ipython",
    "version": 3
   },
   "file_extension": ".py",
   "mimetype": "text/x-python",
   "name": "python",
   "nbconvert_exporter": "python",
   "pygments_lexer": "ipython3",
   "version": "3.12.1"
  }
 },
 "nbformat": 4,
 "nbformat_minor": 2
}
